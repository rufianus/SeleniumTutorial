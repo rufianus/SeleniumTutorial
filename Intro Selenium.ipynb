{
 "cells": [
  {
   "cell_type": "markdown",
   "metadata": {},
   "source": [
    "# PENGENALAN SELENIUM\n",
    "\n",
    "Selenium adalah library untuk simulasi web browsing. Library ini juga bisa dimanfaatkan untuk web crawling dan menyimpan informasi yang ada di website tersebut.\n",
    "\n",
    "### Mulai Menggunakan Selenium\n",
    "Selain melakukan install library selenium di Python, dalam contoh ini kita akan memakai browser Google Chrome yang akan digerakkan dengan chromedriver. Chromedriver bisa didapatkan disini http://chromedriver.chromium.org/downloads\n",
    "\n",
    "Download chromedriver sesuai dengan versi Google Chrome maupun jenis operating system yang dipakai.\n",
    "\n",
    "Dengan program berikut, kita membuka window chrome yang kosong"
   ]
  },
  {
   "cell_type": "code",
   "execution_count": 1,
   "metadata": {},
   "outputs": [],
   "source": [
    "from selenium import webdriver\n",
    "from selenium.webdriver.common.keys import Keys\n",
    "\n",
    "driver_path = \"/home/rufi/Desktop/Selenium/Toraja/chromedriver\" #sesuaikan dengan path menyimpan chromedriver\n",
    "driver = webdriver.Chrome(driver_path)"
   ]
  },
  {
   "cell_type": "markdown",
   "metadata": {},
   "source": [
    "Sesudah window terbuka, kita dapat membuka website dengan cara berikut"
   ]
  },
  {
   "cell_type": "code",
   "execution_count": 5,
   "metadata": {},
   "outputs": [],
   "source": [
    "driver.get(\"http://www.tokopedia.com\")"
   ]
  },
  {
   "cell_type": "markdown",
   "metadata": {},
   "source": [
    "### NAVIGASI \n",
    "Melakukan navigasi di website, maka kita bisa membaca dan memanfaatkan HTML pada page source website tersebut untuk menemukan elemen dan identitas ataupun komponennya sesuai dengan kebutuhan\n",
    "\n",
    "Untuk menemukan lokasi elemen pada website, selenium menyediakan method sebagai berikut:\n",
    "    1. find_element_by_id\n",
    "    2. find_element_by_name\n",
    "    3. find_element_by_xpath\n",
    "    4. find_element_by_link_text\n",
    "    5. find_element_by_partial_link_text\n",
    "    6. find_element_by_tag_name\n",
    "    7. find_element_by_class_name\n",
    "    8. find_element_by_css_selector\n",
    "\n",
    "Contoh, disini kita akan mengakses elemen input text dengan menggunakan find_element_by_name dapat dilakukan sebagai berikut. Pastikan website telah selesai loading page sebelum melakukan eksekusi perintah dibawah ini. Pada saat eksekusi otomatisasi nanti, kita akan menggunakan timer untuk memastikan eksekusi dilakukan tidak terlalu cepat sebelum webpage terbuka seluruhnya. "
   ]
  },
  {
   "cell_type": "code",
   "execution_count": 7,
   "metadata": {},
   "outputs": [],
   "source": [
    "elemen = driver.find_element_by_name(\"q\") #menemukan textbox untuk search\n",
    "elemen.send_keys(\"beauty\")"
   ]
  },
  {
   "cell_type": "markdown",
   "metadata": {},
   "source": [
    "bila dilihat pada window browser, akan didapati kata \"beauty\" sudah berada pada textbox search. Untuk eksekusi search dapat dilakukan dengan lanjutan perintah berikut:"
   ]
  },
  {
   "cell_type": "code",
   "execution_count": 4,
   "metadata": {},
   "outputs": [],
   "source": [
    "elemen.send_keys(Keys.RETURN)"
   ]
  },
  {
   "cell_type": "markdown",
   "metadata": {},
   "source": [
    "Pada window browser sudah tampil hasil search."
   ]
  },
  {
   "cell_type": "markdown",
   "metadata": {},
   "source": [
    "### MENGENAL XPATH\n",
    "XPATH adalah satu elemen penting dari Extensible Stylesheet Language Transformation (XSLT), yaitu bahasa yang digunakan untuk menterjemahkan data XML ke bahasa lain seperti HTML, plain text, atau format lainnya. Dalam hal ini kita akan memanfaatkan XPATH untuk melakukan identifikasi text / label yang berisi data simpan dalam proses crawling, ataupun menemukan elemen lainnya untuk melakukan manufer pada website tersebut."
   ]
  },
  {
   "cell_type": "code",
   "execution_count": 5,
   "metadata": {},
   "outputs": [],
   "source": [
    "elemen = driver.find_element_by_xpath(\"//a[contains(@class, 'GUHElpkt')]\")\n",
    "elemen.send_keys(Keys.RETURN)"
   ]
  },
  {
   "cell_type": "markdown",
   "metadata": {},
   "source": [
    "Dalam contoh diatas, kita menggunakan elemen tag HTML \"a\" yang menunjukkan hyperlink untuk mencari button ke halaman berikutnya."
   ]
  },
  {
   "cell_type": "markdown",
   "metadata": {},
   "source": [
    "### ELEMEN CLASS NAME"
   ]
  },
  {
   "cell_type": "code",
   "execution_count": 6,
   "metadata": {},
   "outputs": [],
   "source": [
    "elemen = driver.find_element_by_class_name(\"rvm-nav-register\")\n",
    "elemen.send_keys(Keys.RETURN)"
   ]
  },
  {
   "cell_type": "markdown",
   "metadata": {},
   "source": [
    "Dengan menggunakan class name diatas, kita dibawa kepada halaman registrasi tokopedia"
   ]
  },
  {
   "cell_type": "markdown",
   "metadata": {},
   "source": [
    "### NAVIGASI BACK DAN FORWARD\n",
    "Navigasi back dan forward halaman dapat dengan mudah dilakukan dengan perintah berikut"
   ]
  },
  {
   "cell_type": "code",
   "execution_count": 7,
   "metadata": {},
   "outputs": [],
   "source": [
    "driver.back() #Mundur 1 halaman "
   ]
  },
  {
   "cell_type": "code",
   "execution_count": 8,
   "metadata": {},
   "outputs": [],
   "source": [
    "driver.forward() #Maju 1 halaman"
   ]
  },
  {
   "cell_type": "markdown",
   "metadata": {},
   "source": [
    "### WAITING\n",
    "\n",
    "Waiting diperlukan untuk menunggu dan memastikan website sudah selesai loading sebelum melakukan instruksi selanjutnya. Untuk melakukan waiting, cara paling mudah adalah menggunakan library time Python, walaupun Selenium sebenarnya memiliki timer untuk waiting sendiri."
   ]
  },
  {
   "cell_type": "code",
   "execution_count": 43,
   "metadata": {},
   "outputs": [
    {
     "name": "stdout",
     "output_type": "stream",
     "text": [
      "Ini text sebelum time.sleep()\n",
      "Ini text sesudah time.sleep()\n"
     ]
    }
   ],
   "source": [
    "import time\n",
    "\n",
    "#Jalankan program ini untuk melihat efek time.sleep() memberi delay waktu terhadap perintah print\n",
    "print(\"Ini text sebelum time.sleep()\")  \n",
    "time.sleep(3)                                 #Satuan waktu sleep adalah detik\n",
    "print(\"Ini text sesudah time.sleep()\")"
   ]
  },
  {
   "cell_type": "markdown",
   "metadata": {},
   "source": [
    "Demikian untuk pengenalan dasar Selenium. Penambahan pada tutorial ini akan dibuat sesuai kebutuhan di masa mendatang."
   ]
  }
 ],
 "metadata": {
  "kernelspec": {
   "display_name": "Python 3",
   "language": "python",
   "name": "python3"
  },
  "language_info": {
   "codemirror_mode": {
    "name": "ipython",
    "version": 3
   },
   "file_extension": ".py",
   "mimetype": "text/x-python",
   "name": "python",
   "nbconvert_exporter": "python",
   "pygments_lexer": "ipython3",
   "version": "3.6.7"
  }
 },
 "nbformat": 4,
 "nbformat_minor": 2
}
